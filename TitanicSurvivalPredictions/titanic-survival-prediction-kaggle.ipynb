{
 "cells": [
  {
   "cell_type": "code",
   "execution_count": 1,
   "id": "964dde20",
   "metadata": {
    "_cell_guid": "b1076dfc-b9ad-4769-8c92-a6c4dae69d19",
    "_uuid": "8f2839f25d086af736a60e9eeb907d3b93b6e0e5",
    "execution": {
     "iopub.execute_input": "2021-07-25T15:13:16.187552Z",
     "iopub.status.busy": "2021-07-25T15:13:16.186479Z",
     "iopub.status.idle": "2021-07-25T15:13:16.198940Z",
     "shell.execute_reply": "2021-07-25T15:13:16.198249Z",
     "shell.execute_reply.started": "2021-07-25T14:52:22.205691Z"
    },
    "papermill": {
     "duration": 0.038913,
     "end_time": "2021-07-25T15:13:16.199144",
     "exception": false,
     "start_time": "2021-07-25T15:13:16.160231",
     "status": "completed"
    },
    "tags": []
   },
   "outputs": [
    {
     "name": "stdout",
     "output_type": "stream",
     "text": [
      "/kaggle/input/titanic/train.csv\n",
      "/kaggle/input/titanic/test.csv\n",
      "/kaggle/input/titanic/gender_submission.csv\n"
     ]
    }
   ],
   "source": [
    "# This Python 3 environment comes with many helpful analytics libraries installed\n",
    "# It is defined by the kaggle/python Docker image: https://github.com/kaggle/docker-python\n",
    "# For example, here's several helpful packages to load\n",
    "\n",
    "import numpy as np # linear algebra\n",
    "import pandas as pd # data processing, CSV file I/O (e.g. pd.read_csv)\n",
    "\n",
    "# Input data files are available in the read-only \"../input/\" directory\n",
    "# For example, running this (by clicking run or pressing Shift+Enter) will list all files under the input directory\n",
    "\n",
    "import os\n",
    "for dirname, _, filenames in os.walk('/kaggle/input'):\n",
    "    for filename in filenames:\n",
    "        print(os.path.join(dirname, filename))\n",
    "\n",
    "# You can write up to 20GB to the current directory (/kaggle/working/) that gets preserved as output when you create a version using \"Save & Run All\" \n",
    "# You can also write temporary files to /kaggle/temp/, but they won't be saved outside of the current session"
   ]
  },
  {
   "cell_type": "markdown",
   "id": "da284ff7",
   "metadata": {
    "papermill": {
     "duration": 0.020188,
     "end_time": "2021-07-25T15:13:16.240725",
     "exception": false,
     "start_time": "2021-07-25T15:13:16.220537",
     "status": "completed"
    },
    "tags": []
   },
   "source": [
    "## Loading The Data"
   ]
  },
  {
   "cell_type": "code",
   "execution_count": 2,
   "id": "d321e80e",
   "metadata": {
    "execution": {
     "iopub.execute_input": "2021-07-25T15:13:16.286450Z",
     "iopub.status.busy": "2021-07-25T15:13:16.285789Z",
     "iopub.status.idle": "2021-07-25T15:13:16.393598Z",
     "shell.execute_reply": "2021-07-25T15:13:16.394116Z",
     "shell.execute_reply.started": "2021-07-25T14:52:22.217809Z"
    },
    "papermill": {
     "duration": 0.133115,
     "end_time": "2021-07-25T15:13:16.394284",
     "exception": false,
     "start_time": "2021-07-25T15:13:16.261169",
     "status": "completed"
    },
    "tags": []
   },
   "outputs": [],
   "source": [
    "train_data=pd.read_csv('../input/titanic/train.csv')\n",
    "test_data=pd.read_csv('../input/titanic/test.csv')"
   ]
  },
  {
   "cell_type": "code",
   "execution_count": 3,
   "id": "bc82c3fe",
   "metadata": {
    "execution": {
     "iopub.execute_input": "2021-07-25T15:13:16.438085Z",
     "iopub.status.busy": "2021-07-25T15:13:16.437479Z",
     "iopub.status.idle": "2021-07-25T15:13:16.442193Z",
     "shell.execute_reply": "2021-07-25T15:13:16.442612Z",
     "shell.execute_reply.started": "2021-07-25T14:52:22.625682Z"
    },
    "papermill": {
     "duration": 0.027921,
     "end_time": "2021-07-25T15:13:16.442769",
     "exception": false,
     "start_time": "2021-07-25T15:13:16.414848",
     "status": "completed"
    },
    "tags": []
   },
   "outputs": [
    {
     "name": "stdout",
     "output_type": "stream",
     "text": [
      "Train Data Shape:  (891, 12)\n",
      "Test Data Shape:  (418, 11)\n"
     ]
    }
   ],
   "source": [
    "print(\"Train Data Shape: \",train_data.shape)\n",
    "print(\"Test Data Shape: \",test_data.shape)"
   ]
  },
  {
   "cell_type": "code",
   "execution_count": 4,
   "id": "0472db6f",
   "metadata": {
    "execution": {
     "iopub.execute_input": "2021-07-25T15:13:16.486912Z",
     "iopub.status.busy": "2021-07-25T15:13:16.486337Z",
     "iopub.status.idle": "2021-07-25T15:13:16.515862Z",
     "shell.execute_reply": "2021-07-25T15:13:16.516342Z",
     "shell.execute_reply.started": "2021-07-25T14:52:22.725907Z"
    },
    "papermill": {
     "duration": 0.053014,
     "end_time": "2021-07-25T15:13:16.516506",
     "exception": false,
     "start_time": "2021-07-25T15:13:16.463492",
     "status": "completed"
    },
    "tags": []
   },
   "outputs": [
    {
     "data": {
      "text/html": [
       "<div>\n",
       "<style scoped>\n",
       "    .dataframe tbody tr th:only-of-type {\n",
       "        vertical-align: middle;\n",
       "    }\n",
       "\n",
       "    .dataframe tbody tr th {\n",
       "        vertical-align: top;\n",
       "    }\n",
       "\n",
       "    .dataframe thead th {\n",
       "        text-align: right;\n",
       "    }\n",
       "</style>\n",
       "<table border=\"1\" class=\"dataframe\">\n",
       "  <thead>\n",
       "    <tr style=\"text-align: right;\">\n",
       "      <th></th>\n",
       "      <th>PassengerId</th>\n",
       "      <th>Survived</th>\n",
       "      <th>Pclass</th>\n",
       "      <th>Name</th>\n",
       "      <th>Sex</th>\n",
       "      <th>Age</th>\n",
       "      <th>SibSp</th>\n",
       "      <th>Parch</th>\n",
       "      <th>Ticket</th>\n",
       "      <th>Fare</th>\n",
       "      <th>Cabin</th>\n",
       "      <th>Embarked</th>\n",
       "    </tr>\n",
       "  </thead>\n",
       "  <tbody>\n",
       "    <tr>\n",
       "      <th>0</th>\n",
       "      <td>1</td>\n",
       "      <td>0</td>\n",
       "      <td>3</td>\n",
       "      <td>Braund, Mr. Owen Harris</td>\n",
       "      <td>male</td>\n",
       "      <td>22.0</td>\n",
       "      <td>1</td>\n",
       "      <td>0</td>\n",
       "      <td>A/5 21171</td>\n",
       "      <td>7.2500</td>\n",
       "      <td>NaN</td>\n",
       "      <td>S</td>\n",
       "    </tr>\n",
       "    <tr>\n",
       "      <th>1</th>\n",
       "      <td>2</td>\n",
       "      <td>1</td>\n",
       "      <td>1</td>\n",
       "      <td>Cumings, Mrs. John Bradley (Florence Briggs Th...</td>\n",
       "      <td>female</td>\n",
       "      <td>38.0</td>\n",
       "      <td>1</td>\n",
       "      <td>0</td>\n",
       "      <td>PC 17599</td>\n",
       "      <td>71.2833</td>\n",
       "      <td>C85</td>\n",
       "      <td>C</td>\n",
       "    </tr>\n",
       "    <tr>\n",
       "      <th>2</th>\n",
       "      <td>3</td>\n",
       "      <td>1</td>\n",
       "      <td>3</td>\n",
       "      <td>Heikkinen, Miss. Laina</td>\n",
       "      <td>female</td>\n",
       "      <td>26.0</td>\n",
       "      <td>0</td>\n",
       "      <td>0</td>\n",
       "      <td>STON/O2. 3101282</td>\n",
       "      <td>7.9250</td>\n",
       "      <td>NaN</td>\n",
       "      <td>S</td>\n",
       "    </tr>\n",
       "    <tr>\n",
       "      <th>3</th>\n",
       "      <td>4</td>\n",
       "      <td>1</td>\n",
       "      <td>1</td>\n",
       "      <td>Futrelle, Mrs. Jacques Heath (Lily May Peel)</td>\n",
       "      <td>female</td>\n",
       "      <td>35.0</td>\n",
       "      <td>1</td>\n",
       "      <td>0</td>\n",
       "      <td>113803</td>\n",
       "      <td>53.1000</td>\n",
       "      <td>C123</td>\n",
       "      <td>S</td>\n",
       "    </tr>\n",
       "    <tr>\n",
       "      <th>4</th>\n",
       "      <td>5</td>\n",
       "      <td>0</td>\n",
       "      <td>3</td>\n",
       "      <td>Allen, Mr. William Henry</td>\n",
       "      <td>male</td>\n",
       "      <td>35.0</td>\n",
       "      <td>0</td>\n",
       "      <td>0</td>\n",
       "      <td>373450</td>\n",
       "      <td>8.0500</td>\n",
       "      <td>NaN</td>\n",
       "      <td>S</td>\n",
       "    </tr>\n",
       "  </tbody>\n",
       "</table>\n",
       "</div>"
      ],
      "text/plain": [
       "   PassengerId  Survived  Pclass  \\\n",
       "0            1         0       3   \n",
       "1            2         1       1   \n",
       "2            3         1       3   \n",
       "3            4         1       1   \n",
       "4            5         0       3   \n",
       "\n",
       "                                                Name     Sex   Age  SibSp  \\\n",
       "0                            Braund, Mr. Owen Harris    male  22.0      1   \n",
       "1  Cumings, Mrs. John Bradley (Florence Briggs Th...  female  38.0      1   \n",
       "2                             Heikkinen, Miss. Laina  female  26.0      0   \n",
       "3       Futrelle, Mrs. Jacques Heath (Lily May Peel)  female  35.0      1   \n",
       "4                           Allen, Mr. William Henry    male  35.0      0   \n",
       "\n",
       "   Parch            Ticket     Fare Cabin Embarked  \n",
       "0      0         A/5 21171   7.2500   NaN        S  \n",
       "1      0          PC 17599  71.2833   C85        C  \n",
       "2      0  STON/O2. 3101282   7.9250   NaN        S  \n",
       "3      0            113803  53.1000  C123        S  \n",
       "4      0            373450   8.0500   NaN        S  "
      ]
     },
     "execution_count": 4,
     "metadata": {},
     "output_type": "execute_result"
    }
   ],
   "source": [
    "train_data.head()"
   ]
  },
  {
   "cell_type": "markdown",
   "id": "beae7ae0",
   "metadata": {
    "papermill": {
     "duration": 0.021103,
     "end_time": "2021-07-25T15:13:16.559636",
     "exception": false,
     "start_time": "2021-07-25T15:13:16.538533",
     "status": "completed"
    },
    "tags": []
   },
   "source": [
    "## Checking missing values"
   ]
  },
  {
   "cell_type": "code",
   "execution_count": 5,
   "id": "34f30a09",
   "metadata": {
    "execution": {
     "iopub.execute_input": "2021-07-25T15:13:16.605860Z",
     "iopub.status.busy": "2021-07-25T15:13:16.604996Z",
     "iopub.status.idle": "2021-07-25T15:13:16.625520Z",
     "shell.execute_reply": "2021-07-25T15:13:16.624996Z",
     "shell.execute_reply.started": "2021-07-25T14:52:22.745053Z"
    },
    "papermill": {
     "duration": 0.044841,
     "end_time": "2021-07-25T15:13:16.625665",
     "exception": false,
     "start_time": "2021-07-25T15:13:16.580824",
     "status": "completed"
    },
    "tags": []
   },
   "outputs": [
    {
     "name": "stdout",
     "output_type": "stream",
     "text": [
      "<class 'pandas.core.frame.DataFrame'>\n",
      "RangeIndex: 891 entries, 0 to 890\n",
      "Data columns (total 12 columns):\n",
      " #   Column       Non-Null Count  Dtype  \n",
      "---  ------       --------------  -----  \n",
      " 0   PassengerId  891 non-null    int64  \n",
      " 1   Survived     891 non-null    int64  \n",
      " 2   Pclass       891 non-null    int64  \n",
      " 3   Name         891 non-null    object \n",
      " 4   Sex          891 non-null    object \n",
      " 5   Age          714 non-null    float64\n",
      " 6   SibSp        891 non-null    int64  \n",
      " 7   Parch        891 non-null    int64  \n",
      " 8   Ticket       891 non-null    object \n",
      " 9   Fare         891 non-null    float64\n",
      " 10  Cabin        204 non-null    object \n",
      " 11  Embarked     889 non-null    object \n",
      "dtypes: float64(2), int64(5), object(5)\n",
      "memory usage: 83.7+ KB\n"
     ]
    }
   ],
   "source": [
    "train_data.info()"
   ]
  },
  {
   "cell_type": "code",
   "execution_count": 6,
   "id": "34e62061",
   "metadata": {
    "execution": {
     "iopub.execute_input": "2021-07-25T15:13:16.676685Z",
     "iopub.status.busy": "2021-07-25T15:13:16.676071Z",
     "iopub.status.idle": "2021-07-25T15:13:16.679098Z",
     "shell.execute_reply": "2021-07-25T15:13:16.679595Z",
     "shell.execute_reply.started": "2021-07-25T14:52:22.762014Z"
    },
    "papermill": {
     "duration": 0.032375,
     "end_time": "2021-07-25T15:13:16.679763",
     "exception": false,
     "start_time": "2021-07-25T15:13:16.647388",
     "status": "completed"
    },
    "tags": []
   },
   "outputs": [
    {
     "data": {
      "text/plain": [
       "PassengerId      0\n",
       "Survived         0\n",
       "Pclass           0\n",
       "Name             0\n",
       "Sex              0\n",
       "Age            177\n",
       "SibSp            0\n",
       "Parch            0\n",
       "Ticket           0\n",
       "Fare             0\n",
       "Cabin          687\n",
       "Embarked         2\n",
       "dtype: int64"
      ]
     },
     "execution_count": 6,
     "metadata": {},
     "output_type": "execute_result"
    }
   ],
   "source": [
    "train_data.isnull().sum()"
   ]
  },
  {
   "cell_type": "markdown",
   "id": "68ba96a8",
   "metadata": {
    "papermill": {
     "duration": 0.023073,
     "end_time": "2021-07-25T15:13:16.724755",
     "exception": false,
     "start_time": "2021-07-25T15:13:16.701682",
     "status": "completed"
    },
    "tags": []
   },
   "source": [
    "## Dealing With Missing Data"
   ]
  },
  {
   "cell_type": "code",
   "execution_count": 7,
   "id": "08051adb",
   "metadata": {
    "execution": {
     "iopub.execute_input": "2021-07-25T15:13:16.772333Z",
     "iopub.status.busy": "2021-07-25T15:13:16.771405Z",
     "iopub.status.idle": "2021-07-25T15:13:16.787965Z",
     "shell.execute_reply": "2021-07-25T15:13:16.787429Z",
     "shell.execute_reply.started": "2021-07-25T14:52:22.778112Z"
    },
    "papermill": {
     "duration": 0.041343,
     "end_time": "2021-07-25T15:13:16.788108",
     "exception": false,
     "start_time": "2021-07-25T15:13:16.746765",
     "status": "completed"
    },
    "tags": []
   },
   "outputs": [
    {
     "name": "stdout",
     "output_type": "stream",
     "text": [
      "<class 'pandas.core.frame.DataFrame'>\n",
      "RangeIndex: 891 entries, 0 to 890\n",
      "Data columns (total 12 columns):\n",
      " #   Column       Non-Null Count  Dtype  \n",
      "---  ------       --------------  -----  \n",
      " 0   PassengerId  891 non-null    int64  \n",
      " 1   Survived     891 non-null    int64  \n",
      " 2   Pclass       891 non-null    int64  \n",
      " 3   Name         891 non-null    object \n",
      " 4   Sex          891 non-null    object \n",
      " 5   Age          891 non-null    float64\n",
      " 6   SibSp        891 non-null    int64  \n",
      " 7   Parch        891 non-null    int64  \n",
      " 8   Ticket       891 non-null    object \n",
      " 9   Fare         891 non-null    float64\n",
      " 10  Cabin        204 non-null    object \n",
      " 11  Embarked     889 non-null    object \n",
      "dtypes: float64(2), int64(5), object(5)\n",
      "memory usage: 83.7+ KB\n"
     ]
    }
   ],
   "source": [
    "### filling the age with the mean\n",
    "train_data['Age'].fillna(train_data['Age'].mean(),inplace=True)\n",
    "train_data.info()"
   ]
  },
  {
   "cell_type": "code",
   "execution_count": 8,
   "id": "3b11f7c4",
   "metadata": {
    "execution": {
     "iopub.execute_input": "2021-07-25T15:13:16.842332Z",
     "iopub.status.busy": "2021-07-25T15:13:16.841334Z",
     "iopub.status.idle": "2021-07-25T15:13:16.853433Z",
     "shell.execute_reply": "2021-07-25T15:13:16.852567Z",
     "shell.execute_reply.started": "2021-07-25T14:52:22.823844Z"
    },
    "papermill": {
     "duration": 0.043191,
     "end_time": "2021-07-25T15:13:16.853620",
     "exception": false,
     "start_time": "2021-07-25T15:13:16.810429",
     "status": "completed"
    },
    "tags": []
   },
   "outputs": [
    {
     "name": "stdout",
     "output_type": "stream",
     "text": [
      "<class 'pandas.core.frame.DataFrame'>\n",
      "RangeIndex: 891 entries, 0 to 890\n",
      "Data columns (total 11 columns):\n",
      " #   Column       Non-Null Count  Dtype  \n",
      "---  ------       --------------  -----  \n",
      " 0   PassengerId  891 non-null    int64  \n",
      " 1   Survived     891 non-null    int64  \n",
      " 2   Pclass       891 non-null    int64  \n",
      " 3   Name         891 non-null    object \n",
      " 4   Sex          891 non-null    object \n",
      " 5   Age          891 non-null    float64\n",
      " 6   SibSp        891 non-null    int64  \n",
      " 7   Parch        891 non-null    int64  \n",
      " 8   Ticket       891 non-null    object \n",
      " 9   Fare         891 non-null    float64\n",
      " 10  Embarked     889 non-null    object \n",
      "dtypes: float64(2), int64(5), object(4)\n",
      "memory usage: 76.7+ KB\n"
     ]
    }
   ],
   "source": [
    "## the cabin has a lot of missing values and i think it won't effect the results so I will drop this column\n",
    "train_data.drop('Cabin',axis=1,inplace=True)\n",
    "train_data.info()"
   ]
  },
  {
   "cell_type": "code",
   "execution_count": 9,
   "id": "4774387e",
   "metadata": {
    "execution": {
     "iopub.execute_input": "2021-07-25T15:13:16.913070Z",
     "iopub.status.busy": "2021-07-25T15:13:16.912315Z",
     "iopub.status.idle": "2021-07-25T15:13:16.916190Z",
     "shell.execute_reply": "2021-07-25T15:13:16.915388Z",
     "shell.execute_reply.started": "2021-07-25T14:52:22.845876Z"
    },
    "papermill": {
     "duration": 0.039629,
     "end_time": "2021-07-25T15:13:16.916368",
     "exception": false,
     "start_time": "2021-07-25T15:13:16.876739",
     "status": "completed"
    },
    "tags": []
   },
   "outputs": [
    {
     "name": "stdout",
     "output_type": "stream",
     "text": [
      "<class 'pandas.core.frame.DataFrame'>\n",
      "RangeIndex: 891 entries, 0 to 890\n",
      "Data columns (total 11 columns):\n",
      " #   Column       Non-Null Count  Dtype  \n",
      "---  ------       --------------  -----  \n",
      " 0   PassengerId  891 non-null    int64  \n",
      " 1   Survived     891 non-null    int64  \n",
      " 2   Pclass       891 non-null    int64  \n",
      " 3   Name         891 non-null    object \n",
      " 4   Sex          891 non-null    object \n",
      " 5   Age          891 non-null    float64\n",
      " 6   SibSp        891 non-null    int64  \n",
      " 7   Parch        891 non-null    int64  \n",
      " 8   Ticket       891 non-null    object \n",
      " 9   Fare         891 non-null    float64\n",
      " 10  Embarked     891 non-null    object \n",
      "dtypes: float64(2), int64(5), object(4)\n",
      "memory usage: 76.7+ KB\n"
     ]
    }
   ],
   "source": [
    "## Dealing with Embarked column by filling with the mode\n",
    "train_data['Embarked'].fillna(train_data['Embarked'].mode()[0],inplace=True)\n",
    "train_data.info()"
   ]
  },
  {
   "cell_type": "markdown",
   "id": "f4f56bde",
   "metadata": {
    "papermill": {
     "duration": 0.022583,
     "end_time": "2021-07-25T15:13:16.963046",
     "exception": false,
     "start_time": "2021-07-25T15:13:16.940463",
     "status": "completed"
    },
    "tags": []
   },
   "source": [
    "## Checking Duplicates"
   ]
  },
  {
   "cell_type": "code",
   "execution_count": 10,
   "id": "294fc495",
   "metadata": {
    "execution": {
     "iopub.execute_input": "2021-07-25T15:13:17.015110Z",
     "iopub.status.busy": "2021-07-25T15:13:17.014461Z",
     "iopub.status.idle": "2021-07-25T15:13:17.023072Z",
     "shell.execute_reply": "2021-07-25T15:13:17.022552Z",
     "shell.execute_reply.started": "2021-07-25T14:52:22.866847Z"
    },
    "papermill": {
     "duration": 0.03745,
     "end_time": "2021-07-25T15:13:17.023203",
     "exception": false,
     "start_time": "2021-07-25T15:13:16.985753",
     "status": "completed"
    },
    "tags": []
   },
   "outputs": [
    {
     "data": {
      "text/plain": [
       "0"
      ]
     },
     "execution_count": 10,
     "metadata": {},
     "output_type": "execute_result"
    }
   ],
   "source": [
    "train_data.duplicated().sum()"
   ]
  },
  {
   "cell_type": "markdown",
   "id": "f338b285",
   "metadata": {
    "papermill": {
     "duration": 0.022606,
     "end_time": "2021-07-25T15:13:17.068762",
     "exception": false,
     "start_time": "2021-07-25T15:13:17.046156",
     "status": "completed"
    },
    "tags": []
   },
   "source": [
    "**No duplicates**"
   ]
  },
  {
   "cell_type": "code",
   "execution_count": 11,
   "id": "900be849",
   "metadata": {
    "execution": {
     "iopub.execute_input": "2021-07-25T15:13:17.123995Z",
     "iopub.status.busy": "2021-07-25T15:13:17.123169Z",
     "iopub.status.idle": "2021-07-25T15:13:17.146131Z",
     "shell.execute_reply": "2021-07-25T15:13:17.145548Z",
     "shell.execute_reply.started": "2021-07-25T14:52:22.884647Z"
    },
    "papermill": {
     "duration": 0.054802,
     "end_time": "2021-07-25T15:13:17.146277",
     "exception": false,
     "start_time": "2021-07-25T15:13:17.091475",
     "status": "completed"
    },
    "tags": []
   },
   "outputs": [
    {
     "data": {
      "text/html": [
       "<div>\n",
       "<style scoped>\n",
       "    .dataframe tbody tr th:only-of-type {\n",
       "        vertical-align: middle;\n",
       "    }\n",
       "\n",
       "    .dataframe tbody tr th {\n",
       "        vertical-align: top;\n",
       "    }\n",
       "\n",
       "    .dataframe thead th {\n",
       "        text-align: right;\n",
       "    }\n",
       "</style>\n",
       "<table border=\"1\" class=\"dataframe\">\n",
       "  <thead>\n",
       "    <tr style=\"text-align: right;\">\n",
       "      <th></th>\n",
       "      <th>PassengerId</th>\n",
       "      <th>Pclass</th>\n",
       "      <th>Age</th>\n",
       "      <th>SibSp</th>\n",
       "      <th>Parch</th>\n",
       "      <th>Fare</th>\n",
       "      <th>Sex_female</th>\n",
       "      <th>Sex_male</th>\n",
       "      <th>Embarked_C</th>\n",
       "      <th>Embarked_Q</th>\n",
       "      <th>Embarked_S</th>\n",
       "    </tr>\n",
       "  </thead>\n",
       "  <tbody>\n",
       "    <tr>\n",
       "      <th>0</th>\n",
       "      <td>1</td>\n",
       "      <td>3</td>\n",
       "      <td>22.000000</td>\n",
       "      <td>1</td>\n",
       "      <td>0</td>\n",
       "      <td>7.2500</td>\n",
       "      <td>0</td>\n",
       "      <td>1</td>\n",
       "      <td>0</td>\n",
       "      <td>0</td>\n",
       "      <td>1</td>\n",
       "    </tr>\n",
       "    <tr>\n",
       "      <th>1</th>\n",
       "      <td>2</td>\n",
       "      <td>1</td>\n",
       "      <td>38.000000</td>\n",
       "      <td>1</td>\n",
       "      <td>0</td>\n",
       "      <td>71.2833</td>\n",
       "      <td>1</td>\n",
       "      <td>0</td>\n",
       "      <td>1</td>\n",
       "      <td>0</td>\n",
       "      <td>0</td>\n",
       "    </tr>\n",
       "    <tr>\n",
       "      <th>2</th>\n",
       "      <td>3</td>\n",
       "      <td>3</td>\n",
       "      <td>26.000000</td>\n",
       "      <td>0</td>\n",
       "      <td>0</td>\n",
       "      <td>7.9250</td>\n",
       "      <td>1</td>\n",
       "      <td>0</td>\n",
       "      <td>0</td>\n",
       "      <td>0</td>\n",
       "      <td>1</td>\n",
       "    </tr>\n",
       "    <tr>\n",
       "      <th>3</th>\n",
       "      <td>4</td>\n",
       "      <td>1</td>\n",
       "      <td>35.000000</td>\n",
       "      <td>1</td>\n",
       "      <td>0</td>\n",
       "      <td>53.1000</td>\n",
       "      <td>1</td>\n",
       "      <td>0</td>\n",
       "      <td>0</td>\n",
       "      <td>0</td>\n",
       "      <td>1</td>\n",
       "    </tr>\n",
       "    <tr>\n",
       "      <th>4</th>\n",
       "      <td>5</td>\n",
       "      <td>3</td>\n",
       "      <td>35.000000</td>\n",
       "      <td>0</td>\n",
       "      <td>0</td>\n",
       "      <td>8.0500</td>\n",
       "      <td>0</td>\n",
       "      <td>1</td>\n",
       "      <td>0</td>\n",
       "      <td>0</td>\n",
       "      <td>1</td>\n",
       "    </tr>\n",
       "    <tr>\n",
       "      <th>...</th>\n",
       "      <td>...</td>\n",
       "      <td>...</td>\n",
       "      <td>...</td>\n",
       "      <td>...</td>\n",
       "      <td>...</td>\n",
       "      <td>...</td>\n",
       "      <td>...</td>\n",
       "      <td>...</td>\n",
       "      <td>...</td>\n",
       "      <td>...</td>\n",
       "      <td>...</td>\n",
       "    </tr>\n",
       "    <tr>\n",
       "      <th>886</th>\n",
       "      <td>887</td>\n",
       "      <td>2</td>\n",
       "      <td>27.000000</td>\n",
       "      <td>0</td>\n",
       "      <td>0</td>\n",
       "      <td>13.0000</td>\n",
       "      <td>0</td>\n",
       "      <td>1</td>\n",
       "      <td>0</td>\n",
       "      <td>0</td>\n",
       "      <td>1</td>\n",
       "    </tr>\n",
       "    <tr>\n",
       "      <th>887</th>\n",
       "      <td>888</td>\n",
       "      <td>1</td>\n",
       "      <td>19.000000</td>\n",
       "      <td>0</td>\n",
       "      <td>0</td>\n",
       "      <td>30.0000</td>\n",
       "      <td>1</td>\n",
       "      <td>0</td>\n",
       "      <td>0</td>\n",
       "      <td>0</td>\n",
       "      <td>1</td>\n",
       "    </tr>\n",
       "    <tr>\n",
       "      <th>888</th>\n",
       "      <td>889</td>\n",
       "      <td>3</td>\n",
       "      <td>29.699118</td>\n",
       "      <td>1</td>\n",
       "      <td>2</td>\n",
       "      <td>23.4500</td>\n",
       "      <td>1</td>\n",
       "      <td>0</td>\n",
       "      <td>0</td>\n",
       "      <td>0</td>\n",
       "      <td>1</td>\n",
       "    </tr>\n",
       "    <tr>\n",
       "      <th>889</th>\n",
       "      <td>890</td>\n",
       "      <td>1</td>\n",
       "      <td>26.000000</td>\n",
       "      <td>0</td>\n",
       "      <td>0</td>\n",
       "      <td>30.0000</td>\n",
       "      <td>0</td>\n",
       "      <td>1</td>\n",
       "      <td>1</td>\n",
       "      <td>0</td>\n",
       "      <td>0</td>\n",
       "    </tr>\n",
       "    <tr>\n",
       "      <th>890</th>\n",
       "      <td>891</td>\n",
       "      <td>3</td>\n",
       "      <td>32.000000</td>\n",
       "      <td>0</td>\n",
       "      <td>0</td>\n",
       "      <td>7.7500</td>\n",
       "      <td>0</td>\n",
       "      <td>1</td>\n",
       "      <td>0</td>\n",
       "      <td>1</td>\n",
       "      <td>0</td>\n",
       "    </tr>\n",
       "  </tbody>\n",
       "</table>\n",
       "<p>891 rows × 11 columns</p>\n",
       "</div>"
      ],
      "text/plain": [
       "     PassengerId  Pclass        Age  SibSp  Parch     Fare  Sex_female  \\\n",
       "0              1       3  22.000000      1      0   7.2500           0   \n",
       "1              2       1  38.000000      1      0  71.2833           1   \n",
       "2              3       3  26.000000      0      0   7.9250           1   \n",
       "3              4       1  35.000000      1      0  53.1000           1   \n",
       "4              5       3  35.000000      0      0   8.0500           0   \n",
       "..           ...     ...        ...    ...    ...      ...         ...   \n",
       "886          887       2  27.000000      0      0  13.0000           0   \n",
       "887          888       1  19.000000      0      0  30.0000           1   \n",
       "888          889       3  29.699118      1      2  23.4500           1   \n",
       "889          890       1  26.000000      0      0  30.0000           0   \n",
       "890          891       3  32.000000      0      0   7.7500           0   \n",
       "\n",
       "     Sex_male  Embarked_C  Embarked_Q  Embarked_S  \n",
       "0           1           0           0           1  \n",
       "1           0           1           0           0  \n",
       "2           0           0           0           1  \n",
       "3           0           0           0           1  \n",
       "4           1           0           0           1  \n",
       "..        ...         ...         ...         ...  \n",
       "886         1           0           0           1  \n",
       "887         0           0           0           1  \n",
       "888         0           0           0           1  \n",
       "889         1           1           0           0  \n",
       "890         1           0           1           0  \n",
       "\n",
       "[891 rows x 11 columns]"
      ]
     },
     "execution_count": 11,
     "metadata": {},
     "output_type": "execute_result"
    }
   ],
   "source": [
    "X=train_data.drop(['Survived','Name','Ticket'],axis=1)\n",
    "X = pd.get_dummies(X)\n",
    "X\n"
   ]
  },
  {
   "cell_type": "markdown",
   "id": "c851ec43",
   "metadata": {
    "papermill": {
     "duration": 0.023472,
     "end_time": "2021-07-25T15:13:17.193557",
     "exception": false,
     "start_time": "2021-07-25T15:13:17.170085",
     "status": "completed"
    },
    "tags": []
   },
   "source": [
    "### Spliting the data into target and data"
   ]
  },
  {
   "cell_type": "code",
   "execution_count": 12,
   "id": "48fa5823",
   "metadata": {
    "execution": {
     "iopub.execute_input": "2021-07-25T15:13:17.247615Z",
     "iopub.status.busy": "2021-07-25T15:13:17.246931Z",
     "iopub.status.idle": "2021-07-25T15:13:17.251365Z",
     "shell.execute_reply": "2021-07-25T15:13:17.250483Z",
     "shell.execute_reply.started": "2021-07-25T14:52:22.919176Z"
    },
    "papermill": {
     "duration": 0.033957,
     "end_time": "2021-07-25T15:13:17.251512",
     "exception": false,
     "start_time": "2021-07-25T15:13:17.217555",
     "status": "completed"
    },
    "tags": []
   },
   "outputs": [
    {
     "data": {
      "text/plain": [
       "0      0\n",
       "1      1\n",
       "2      1\n",
       "3      1\n",
       "4      0\n",
       "      ..\n",
       "886    0\n",
       "887    1\n",
       "888    0\n",
       "889    1\n",
       "890    0\n",
       "Name: Survived, Length: 891, dtype: int64"
      ]
     },
     "execution_count": 12,
     "metadata": {},
     "output_type": "execute_result"
    }
   ],
   "source": [
    "\n",
    "Y=train_data['Survived']\n",
    "Y"
   ]
  },
  {
   "cell_type": "markdown",
   "id": "2b6de1a4",
   "metadata": {
    "papermill": {
     "duration": 0.029924,
     "end_time": "2021-07-25T15:13:17.306599",
     "exception": false,
     "start_time": "2021-07-25T15:13:17.276675",
     "status": "completed"
    },
    "tags": []
   },
   "source": [
    "### Spliting the data into train and validate"
   ]
  },
  {
   "cell_type": "code",
   "execution_count": 13,
   "id": "c35ff432",
   "metadata": {
    "execution": {
     "iopub.execute_input": "2021-07-25T15:13:17.368076Z",
     "iopub.status.busy": "2021-07-25T15:13:17.367400Z",
     "iopub.status.idle": "2021-07-25T15:13:18.259241Z",
     "shell.execute_reply": "2021-07-25T15:13:18.257935Z",
     "shell.execute_reply.started": "2021-07-25T14:52:22.929127Z"
    },
    "papermill": {
     "duration": 0.926329,
     "end_time": "2021-07-25T15:13:18.259445",
     "exception": false,
     "start_time": "2021-07-25T15:13:17.333116",
     "status": "completed"
    },
    "tags": []
   },
   "outputs": [],
   "source": [
    "from sklearn.model_selection import train_test_split"
   ]
  },
  {
   "cell_type": "code",
   "execution_count": 14,
   "id": "8cd4e566",
   "metadata": {
    "execution": {
     "iopub.execute_input": "2021-07-25T15:13:18.325717Z",
     "iopub.status.busy": "2021-07-25T15:13:18.325010Z",
     "iopub.status.idle": "2021-07-25T15:13:18.346379Z",
     "shell.execute_reply": "2021-07-25T15:13:18.346803Z",
     "shell.execute_reply.started": "2021-07-25T14:52:22.942786Z"
    },
    "papermill": {
     "duration": 0.05109,
     "end_time": "2021-07-25T15:13:18.346994",
     "exception": false,
     "start_time": "2021-07-25T15:13:18.295904",
     "status": "completed"
    },
    "tags": []
   },
   "outputs": [
    {
     "data": {
      "text/html": [
       "<div>\n",
       "<style scoped>\n",
       "    .dataframe tbody tr th:only-of-type {\n",
       "        vertical-align: middle;\n",
       "    }\n",
       "\n",
       "    .dataframe tbody tr th {\n",
       "        vertical-align: top;\n",
       "    }\n",
       "\n",
       "    .dataframe thead th {\n",
       "        text-align: right;\n",
       "    }\n",
       "</style>\n",
       "<table border=\"1\" class=\"dataframe\">\n",
       "  <thead>\n",
       "    <tr style=\"text-align: right;\">\n",
       "      <th></th>\n",
       "      <th>PassengerId</th>\n",
       "      <th>Pclass</th>\n",
       "      <th>Age</th>\n",
       "      <th>SibSp</th>\n",
       "      <th>Parch</th>\n",
       "      <th>Fare</th>\n",
       "      <th>Sex_female</th>\n",
       "      <th>Sex_male</th>\n",
       "      <th>Embarked_C</th>\n",
       "      <th>Embarked_Q</th>\n",
       "      <th>Embarked_S</th>\n",
       "    </tr>\n",
       "  </thead>\n",
       "  <tbody>\n",
       "    <tr>\n",
       "      <th>140</th>\n",
       "      <td>141</td>\n",
       "      <td>3</td>\n",
       "      <td>29.699118</td>\n",
       "      <td>0</td>\n",
       "      <td>2</td>\n",
       "      <td>15.2458</td>\n",
       "      <td>1</td>\n",
       "      <td>0</td>\n",
       "      <td>1</td>\n",
       "      <td>0</td>\n",
       "      <td>0</td>\n",
       "    </tr>\n",
       "    <tr>\n",
       "      <th>439</th>\n",
       "      <td>440</td>\n",
       "      <td>2</td>\n",
       "      <td>31.000000</td>\n",
       "      <td>0</td>\n",
       "      <td>0</td>\n",
       "      <td>10.5000</td>\n",
       "      <td>0</td>\n",
       "      <td>1</td>\n",
       "      <td>0</td>\n",
       "      <td>0</td>\n",
       "      <td>1</td>\n",
       "    </tr>\n",
       "    <tr>\n",
       "      <th>817</th>\n",
       "      <td>818</td>\n",
       "      <td>2</td>\n",
       "      <td>31.000000</td>\n",
       "      <td>1</td>\n",
       "      <td>1</td>\n",
       "      <td>37.0042</td>\n",
       "      <td>0</td>\n",
       "      <td>1</td>\n",
       "      <td>1</td>\n",
       "      <td>0</td>\n",
       "      <td>0</td>\n",
       "    </tr>\n",
       "    <tr>\n",
       "      <th>378</th>\n",
       "      <td>379</td>\n",
       "      <td>3</td>\n",
       "      <td>20.000000</td>\n",
       "      <td>0</td>\n",
       "      <td>0</td>\n",
       "      <td>4.0125</td>\n",
       "      <td>0</td>\n",
       "      <td>1</td>\n",
       "      <td>1</td>\n",
       "      <td>0</td>\n",
       "      <td>0</td>\n",
       "    </tr>\n",
       "    <tr>\n",
       "      <th>491</th>\n",
       "      <td>492</td>\n",
       "      <td>3</td>\n",
       "      <td>21.000000</td>\n",
       "      <td>0</td>\n",
       "      <td>0</td>\n",
       "      <td>7.2500</td>\n",
       "      <td>0</td>\n",
       "      <td>1</td>\n",
       "      <td>0</td>\n",
       "      <td>0</td>\n",
       "      <td>1</td>\n",
       "    </tr>\n",
       "    <tr>\n",
       "      <th>...</th>\n",
       "      <td>...</td>\n",
       "      <td>...</td>\n",
       "      <td>...</td>\n",
       "      <td>...</td>\n",
       "      <td>...</td>\n",
       "      <td>...</td>\n",
       "      <td>...</td>\n",
       "      <td>...</td>\n",
       "      <td>...</td>\n",
       "      <td>...</td>\n",
       "      <td>...</td>\n",
       "    </tr>\n",
       "    <tr>\n",
       "      <th>835</th>\n",
       "      <td>836</td>\n",
       "      <td>1</td>\n",
       "      <td>39.000000</td>\n",
       "      <td>1</td>\n",
       "      <td>1</td>\n",
       "      <td>83.1583</td>\n",
       "      <td>1</td>\n",
       "      <td>0</td>\n",
       "      <td>1</td>\n",
       "      <td>0</td>\n",
       "      <td>0</td>\n",
       "    </tr>\n",
       "    <tr>\n",
       "      <th>192</th>\n",
       "      <td>193</td>\n",
       "      <td>3</td>\n",
       "      <td>19.000000</td>\n",
       "      <td>1</td>\n",
       "      <td>0</td>\n",
       "      <td>7.8542</td>\n",
       "      <td>1</td>\n",
       "      <td>0</td>\n",
       "      <td>0</td>\n",
       "      <td>0</td>\n",
       "      <td>1</td>\n",
       "    </tr>\n",
       "    <tr>\n",
       "      <th>629</th>\n",
       "      <td>630</td>\n",
       "      <td>3</td>\n",
       "      <td>29.699118</td>\n",
       "      <td>0</td>\n",
       "      <td>0</td>\n",
       "      <td>7.7333</td>\n",
       "      <td>0</td>\n",
       "      <td>1</td>\n",
       "      <td>0</td>\n",
       "      <td>1</td>\n",
       "      <td>0</td>\n",
       "    </tr>\n",
       "    <tr>\n",
       "      <th>559</th>\n",
       "      <td>560</td>\n",
       "      <td>3</td>\n",
       "      <td>36.000000</td>\n",
       "      <td>1</td>\n",
       "      <td>0</td>\n",
       "      <td>17.4000</td>\n",
       "      <td>1</td>\n",
       "      <td>0</td>\n",
       "      <td>0</td>\n",
       "      <td>0</td>\n",
       "      <td>1</td>\n",
       "    </tr>\n",
       "    <tr>\n",
       "      <th>684</th>\n",
       "      <td>685</td>\n",
       "      <td>2</td>\n",
       "      <td>60.000000</td>\n",
       "      <td>1</td>\n",
       "      <td>1</td>\n",
       "      <td>39.0000</td>\n",
       "      <td>0</td>\n",
       "      <td>1</td>\n",
       "      <td>0</td>\n",
       "      <td>0</td>\n",
       "      <td>1</td>\n",
       "    </tr>\n",
       "  </tbody>\n",
       "</table>\n",
       "<p>712 rows × 11 columns</p>\n",
       "</div>"
      ],
      "text/plain": [
       "     PassengerId  Pclass        Age  SibSp  Parch     Fare  Sex_female  \\\n",
       "140          141       3  29.699118      0      2  15.2458           1   \n",
       "439          440       2  31.000000      0      0  10.5000           0   \n",
       "817          818       2  31.000000      1      1  37.0042           0   \n",
       "378          379       3  20.000000      0      0   4.0125           0   \n",
       "491          492       3  21.000000      0      0   7.2500           0   \n",
       "..           ...     ...        ...    ...    ...      ...         ...   \n",
       "835          836       1  39.000000      1      1  83.1583           1   \n",
       "192          193       3  19.000000      1      0   7.8542           1   \n",
       "629          630       3  29.699118      0      0   7.7333           0   \n",
       "559          560       3  36.000000      1      0  17.4000           1   \n",
       "684          685       2  60.000000      1      1  39.0000           0   \n",
       "\n",
       "     Sex_male  Embarked_C  Embarked_Q  Embarked_S  \n",
       "140         0           1           0           0  \n",
       "439         1           0           0           1  \n",
       "817         1           1           0           0  \n",
       "378         1           1           0           0  \n",
       "491         1           0           0           1  \n",
       "..        ...         ...         ...         ...  \n",
       "835         0           1           0           0  \n",
       "192         0           0           0           1  \n",
       "629         1           0           1           0  \n",
       "559         0           0           0           1  \n",
       "684         1           0           0           1  \n",
       "\n",
       "[712 rows x 11 columns]"
      ]
     },
     "execution_count": 14,
     "metadata": {},
     "output_type": "execute_result"
    }
   ],
   "source": [
    "X_train, X_valid, y_train, y_valid = train_test_split(X, Y , test_size = 0.20, random_state = 0)\n",
    "X_train"
   ]
  },
  {
   "cell_type": "markdown",
   "id": "577dcb52",
   "metadata": {
    "papermill": {
     "duration": 0.024455,
     "end_time": "2021-07-25T15:13:18.396306",
     "exception": false,
     "start_time": "2021-07-25T15:13:18.371851",
     "status": "completed"
    },
    "tags": []
   },
   "source": [
    "## Building the model"
   ]
  },
  {
   "cell_type": "markdown",
   "id": "2af37869",
   "metadata": {
    "papermill": {
     "duration": 0.024186,
     "end_time": "2021-07-25T15:13:18.444650",
     "exception": false,
     "start_time": "2021-07-25T15:13:18.420464",
     "status": "completed"
    },
    "tags": []
   },
   "source": [
    "## Using RandomForest"
   ]
  },
  {
   "cell_type": "code",
   "execution_count": 15,
   "id": "65c83125",
   "metadata": {
    "execution": {
     "iopub.execute_input": "2021-07-25T15:13:18.496445Z",
     "iopub.status.busy": "2021-07-25T15:13:18.495527Z",
     "iopub.status.idle": "2021-07-25T15:13:18.819317Z",
     "shell.execute_reply": "2021-07-25T15:13:18.819772Z",
     "shell.execute_reply.started": "2021-07-25T14:52:22.988219Z"
    },
    "papermill": {
     "duration": 0.351079,
     "end_time": "2021-07-25T15:13:18.820009",
     "exception": false,
     "start_time": "2021-07-25T15:13:18.468930",
     "status": "completed"
    },
    "tags": []
   },
   "outputs": [
    {
     "name": "stdout",
     "output_type": "stream",
     "text": [
      "1.0\n",
      "100.0 %\n"
     ]
    }
   ],
   "source": [
    "from sklearn.ensemble import RandomForestClassifier\n",
    "\n",
    "random_forest = RandomForestClassifier(n_estimators=45)\n",
    "random_forest.fit(X_train, y_train)\n",
    "print(random_forest.score(X_train, y_train))\n",
    "acc_random_forest = round(random_forest.score(X_train, y_train) * 100, 2)\n",
    "print(round(acc_random_forest,2,), \"%\")"
   ]
  },
  {
   "cell_type": "markdown",
   "id": "866523e6",
   "metadata": {
    "papermill": {
     "duration": 0.024684,
     "end_time": "2021-07-25T15:13:18.869090",
     "exception": false,
     "start_time": "2021-07-25T15:13:18.844406",
     "status": "completed"
    },
    "tags": []
   },
   "source": [
    "## Using KNN"
   ]
  },
  {
   "cell_type": "code",
   "execution_count": 16,
   "id": "6373a9c6",
   "metadata": {
    "execution": {
     "iopub.execute_input": "2021-07-25T15:13:18.926008Z",
     "iopub.status.busy": "2021-07-25T15:13:18.925073Z",
     "iopub.status.idle": "2021-07-25T15:13:18.942921Z",
     "shell.execute_reply": "2021-07-25T15:13:18.943369Z",
     "shell.execute_reply.started": "2021-07-25T15:02:20.933340Z"
    },
    "papermill": {
     "duration": 0.049452,
     "end_time": "2021-07-25T15:13:18.943552",
     "exception": false,
     "start_time": "2021-07-25T15:13:18.894100",
     "status": "completed"
    },
    "tags": []
   },
   "outputs": [
    {
     "data": {
      "text/plain": [
       "0.7206703910614525"
      ]
     },
     "execution_count": 16,
     "metadata": {},
     "output_type": "execute_result"
    }
   ],
   "source": [
    "from sklearn.neighbors import KNeighborsClassifier\n",
    "from sklearn import metrics\n",
    "knn=KNeighborsClassifier(n_neighbors=20)\n",
    "knn.fit(X_train,y_train)\n",
    "pred=knn.predict(X_valid)\n",
    "acc=metrics.accuracy_score(y_valid,pred)\n",
    "acc"
   ]
  },
  {
   "cell_type": "markdown",
   "id": "1018a798",
   "metadata": {
    "papermill": {
     "duration": 0.024882,
     "end_time": "2021-07-25T15:13:18.993655",
     "exception": false,
     "start_time": "2021-07-25T15:13:18.968773",
     "status": "completed"
    },
    "tags": []
   },
   "source": [
    "## Testing the Model"
   ]
  },
  {
   "cell_type": "code",
   "execution_count": 17,
   "id": "14c360fd",
   "metadata": {
    "execution": {
     "iopub.execute_input": "2021-07-25T15:13:19.048651Z",
     "iopub.status.busy": "2021-07-25T15:13:19.047947Z",
     "iopub.status.idle": "2021-07-25T15:13:19.069944Z",
     "shell.execute_reply": "2021-07-25T15:13:19.070484Z",
     "shell.execute_reply.started": "2021-07-25T14:52:23.136967Z"
    },
    "papermill": {
     "duration": 0.05085,
     "end_time": "2021-07-25T15:13:19.070651",
     "exception": false,
     "start_time": "2021-07-25T15:13:19.019801",
     "status": "completed"
    },
    "tags": []
   },
   "outputs": [
    {
     "data": {
      "text/html": [
       "<div>\n",
       "<style scoped>\n",
       "    .dataframe tbody tr th:only-of-type {\n",
       "        vertical-align: middle;\n",
       "    }\n",
       "\n",
       "    .dataframe tbody tr th {\n",
       "        vertical-align: top;\n",
       "    }\n",
       "\n",
       "    .dataframe thead th {\n",
       "        text-align: right;\n",
       "    }\n",
       "</style>\n",
       "<table border=\"1\" class=\"dataframe\">\n",
       "  <thead>\n",
       "    <tr style=\"text-align: right;\">\n",
       "      <th></th>\n",
       "      <th>PassengerId</th>\n",
       "      <th>Pclass</th>\n",
       "      <th>Name</th>\n",
       "      <th>Sex</th>\n",
       "      <th>Age</th>\n",
       "      <th>SibSp</th>\n",
       "      <th>Parch</th>\n",
       "      <th>Ticket</th>\n",
       "      <th>Fare</th>\n",
       "      <th>Cabin</th>\n",
       "      <th>Embarked</th>\n",
       "    </tr>\n",
       "  </thead>\n",
       "  <tbody>\n",
       "    <tr>\n",
       "      <th>0</th>\n",
       "      <td>892</td>\n",
       "      <td>3</td>\n",
       "      <td>Kelly, Mr. James</td>\n",
       "      <td>male</td>\n",
       "      <td>34.5</td>\n",
       "      <td>0</td>\n",
       "      <td>0</td>\n",
       "      <td>330911</td>\n",
       "      <td>7.8292</td>\n",
       "      <td>NaN</td>\n",
       "      <td>Q</td>\n",
       "    </tr>\n",
       "    <tr>\n",
       "      <th>1</th>\n",
       "      <td>893</td>\n",
       "      <td>3</td>\n",
       "      <td>Wilkes, Mrs. James (Ellen Needs)</td>\n",
       "      <td>female</td>\n",
       "      <td>47.0</td>\n",
       "      <td>1</td>\n",
       "      <td>0</td>\n",
       "      <td>363272</td>\n",
       "      <td>7.0000</td>\n",
       "      <td>NaN</td>\n",
       "      <td>S</td>\n",
       "    </tr>\n",
       "    <tr>\n",
       "      <th>2</th>\n",
       "      <td>894</td>\n",
       "      <td>2</td>\n",
       "      <td>Myles, Mr. Thomas Francis</td>\n",
       "      <td>male</td>\n",
       "      <td>62.0</td>\n",
       "      <td>0</td>\n",
       "      <td>0</td>\n",
       "      <td>240276</td>\n",
       "      <td>9.6875</td>\n",
       "      <td>NaN</td>\n",
       "      <td>Q</td>\n",
       "    </tr>\n",
       "    <tr>\n",
       "      <th>3</th>\n",
       "      <td>895</td>\n",
       "      <td>3</td>\n",
       "      <td>Wirz, Mr. Albert</td>\n",
       "      <td>male</td>\n",
       "      <td>27.0</td>\n",
       "      <td>0</td>\n",
       "      <td>0</td>\n",
       "      <td>315154</td>\n",
       "      <td>8.6625</td>\n",
       "      <td>NaN</td>\n",
       "      <td>S</td>\n",
       "    </tr>\n",
       "    <tr>\n",
       "      <th>4</th>\n",
       "      <td>896</td>\n",
       "      <td>3</td>\n",
       "      <td>Hirvonen, Mrs. Alexander (Helga E Lindqvist)</td>\n",
       "      <td>female</td>\n",
       "      <td>22.0</td>\n",
       "      <td>1</td>\n",
       "      <td>1</td>\n",
       "      <td>3101298</td>\n",
       "      <td>12.2875</td>\n",
       "      <td>NaN</td>\n",
       "      <td>S</td>\n",
       "    </tr>\n",
       "    <tr>\n",
       "      <th>...</th>\n",
       "      <td>...</td>\n",
       "      <td>...</td>\n",
       "      <td>...</td>\n",
       "      <td>...</td>\n",
       "      <td>...</td>\n",
       "      <td>...</td>\n",
       "      <td>...</td>\n",
       "      <td>...</td>\n",
       "      <td>...</td>\n",
       "      <td>...</td>\n",
       "      <td>...</td>\n",
       "    </tr>\n",
       "    <tr>\n",
       "      <th>413</th>\n",
       "      <td>1305</td>\n",
       "      <td>3</td>\n",
       "      <td>Spector, Mr. Woolf</td>\n",
       "      <td>male</td>\n",
       "      <td>NaN</td>\n",
       "      <td>0</td>\n",
       "      <td>0</td>\n",
       "      <td>A.5. 3236</td>\n",
       "      <td>8.0500</td>\n",
       "      <td>NaN</td>\n",
       "      <td>S</td>\n",
       "    </tr>\n",
       "    <tr>\n",
       "      <th>414</th>\n",
       "      <td>1306</td>\n",
       "      <td>1</td>\n",
       "      <td>Oliva y Ocana, Dona. Fermina</td>\n",
       "      <td>female</td>\n",
       "      <td>39.0</td>\n",
       "      <td>0</td>\n",
       "      <td>0</td>\n",
       "      <td>PC 17758</td>\n",
       "      <td>108.9000</td>\n",
       "      <td>C105</td>\n",
       "      <td>C</td>\n",
       "    </tr>\n",
       "    <tr>\n",
       "      <th>415</th>\n",
       "      <td>1307</td>\n",
       "      <td>3</td>\n",
       "      <td>Saether, Mr. Simon Sivertsen</td>\n",
       "      <td>male</td>\n",
       "      <td>38.5</td>\n",
       "      <td>0</td>\n",
       "      <td>0</td>\n",
       "      <td>SOTON/O.Q. 3101262</td>\n",
       "      <td>7.2500</td>\n",
       "      <td>NaN</td>\n",
       "      <td>S</td>\n",
       "    </tr>\n",
       "    <tr>\n",
       "      <th>416</th>\n",
       "      <td>1308</td>\n",
       "      <td>3</td>\n",
       "      <td>Ware, Mr. Frederick</td>\n",
       "      <td>male</td>\n",
       "      <td>NaN</td>\n",
       "      <td>0</td>\n",
       "      <td>0</td>\n",
       "      <td>359309</td>\n",
       "      <td>8.0500</td>\n",
       "      <td>NaN</td>\n",
       "      <td>S</td>\n",
       "    </tr>\n",
       "    <tr>\n",
       "      <th>417</th>\n",
       "      <td>1309</td>\n",
       "      <td>3</td>\n",
       "      <td>Peter, Master. Michael J</td>\n",
       "      <td>male</td>\n",
       "      <td>NaN</td>\n",
       "      <td>1</td>\n",
       "      <td>1</td>\n",
       "      <td>2668</td>\n",
       "      <td>22.3583</td>\n",
       "      <td>NaN</td>\n",
       "      <td>C</td>\n",
       "    </tr>\n",
       "  </tbody>\n",
       "</table>\n",
       "<p>418 rows × 11 columns</p>\n",
       "</div>"
      ],
      "text/plain": [
       "     PassengerId  Pclass                                          Name  \\\n",
       "0            892       3                              Kelly, Mr. James   \n",
       "1            893       3              Wilkes, Mrs. James (Ellen Needs)   \n",
       "2            894       2                     Myles, Mr. Thomas Francis   \n",
       "3            895       3                              Wirz, Mr. Albert   \n",
       "4            896       3  Hirvonen, Mrs. Alexander (Helga E Lindqvist)   \n",
       "..           ...     ...                                           ...   \n",
       "413         1305       3                            Spector, Mr. Woolf   \n",
       "414         1306       1                  Oliva y Ocana, Dona. Fermina   \n",
       "415         1307       3                  Saether, Mr. Simon Sivertsen   \n",
       "416         1308       3                           Ware, Mr. Frederick   \n",
       "417         1309       3                      Peter, Master. Michael J   \n",
       "\n",
       "        Sex   Age  SibSp  Parch              Ticket      Fare Cabin Embarked  \n",
       "0      male  34.5      0      0              330911    7.8292   NaN        Q  \n",
       "1    female  47.0      1      0              363272    7.0000   NaN        S  \n",
       "2      male  62.0      0      0              240276    9.6875   NaN        Q  \n",
       "3      male  27.0      0      0              315154    8.6625   NaN        S  \n",
       "4    female  22.0      1      1             3101298   12.2875   NaN        S  \n",
       "..      ...   ...    ...    ...                 ...       ...   ...      ...  \n",
       "413    male   NaN      0      0           A.5. 3236    8.0500   NaN        S  \n",
       "414  female  39.0      0      0            PC 17758  108.9000  C105        C  \n",
       "415    male  38.5      0      0  SOTON/O.Q. 3101262    7.2500   NaN        S  \n",
       "416    male   NaN      0      0              359309    8.0500   NaN        S  \n",
       "417    male   NaN      1      1                2668   22.3583   NaN        C  \n",
       "\n",
       "[418 rows x 11 columns]"
      ]
     },
     "execution_count": 17,
     "metadata": {},
     "output_type": "execute_result"
    }
   ],
   "source": [
    "## Droping the cabin column from the test as well\n",
    "\n",
    "#test_data.drop(['Cabin','Name','Ticket'],axis=1,inplace=True)\n",
    "#test_data.info()\n",
    "test_data"
   ]
  },
  {
   "cell_type": "code",
   "execution_count": 18,
   "id": "6dc2b645",
   "metadata": {
    "execution": {
     "iopub.execute_input": "2021-07-25T15:13:19.124760Z",
     "iopub.status.busy": "2021-07-25T15:13:19.124133Z",
     "iopub.status.idle": "2021-07-25T15:13:19.130414Z",
     "shell.execute_reply": "2021-07-25T15:13:19.129907Z",
     "shell.execute_reply.started": "2021-07-25T14:52:23.164881Z"
    },
    "papermill": {
     "duration": 0.034317,
     "end_time": "2021-07-25T15:13:19.130556",
     "exception": false,
     "start_time": "2021-07-25T15:13:19.096239",
     "status": "completed"
    },
    "tags": []
   },
   "outputs": [],
   "source": [
    "test_data.drop(['Cabin'],axis=1,inplace=True)\n"
   ]
  },
  {
   "cell_type": "code",
   "execution_count": 19,
   "id": "baac2a7a",
   "metadata": {
    "execution": {
     "iopub.execute_input": "2021-07-25T15:13:19.205808Z",
     "iopub.status.busy": "2021-07-25T15:13:19.204866Z",
     "iopub.status.idle": "2021-07-25T15:13:19.209354Z",
     "shell.execute_reply": "2021-07-25T15:13:19.208758Z",
     "shell.execute_reply.started": "2021-07-25T14:52:23.171684Z"
    },
    "papermill": {
     "duration": 0.05342,
     "end_time": "2021-07-25T15:13:19.209490",
     "exception": false,
     "start_time": "2021-07-25T15:13:19.156070",
     "status": "completed"
    },
    "tags": []
   },
   "outputs": [
    {
     "data": {
      "text/html": [
       "<div>\n",
       "<style scoped>\n",
       "    .dataframe tbody tr th:only-of-type {\n",
       "        vertical-align: middle;\n",
       "    }\n",
       "\n",
       "    .dataframe tbody tr th {\n",
       "        vertical-align: top;\n",
       "    }\n",
       "\n",
       "    .dataframe thead th {\n",
       "        text-align: right;\n",
       "    }\n",
       "</style>\n",
       "<table border=\"1\" class=\"dataframe\">\n",
       "  <thead>\n",
       "    <tr style=\"text-align: right;\">\n",
       "      <th></th>\n",
       "      <th>PassengerId</th>\n",
       "      <th>Pclass</th>\n",
       "      <th>Sex</th>\n",
       "      <th>Age</th>\n",
       "      <th>SibSp</th>\n",
       "      <th>Parch</th>\n",
       "      <th>Ticket</th>\n",
       "      <th>Fare</th>\n",
       "      <th>Embarked</th>\n",
       "    </tr>\n",
       "  </thead>\n",
       "  <tbody>\n",
       "    <tr>\n",
       "      <th>0</th>\n",
       "      <td>892</td>\n",
       "      <td>3</td>\n",
       "      <td>male</td>\n",
       "      <td>34.5</td>\n",
       "      <td>0</td>\n",
       "      <td>0</td>\n",
       "      <td>330911</td>\n",
       "      <td>7.8292</td>\n",
       "      <td>Q</td>\n",
       "    </tr>\n",
       "    <tr>\n",
       "      <th>1</th>\n",
       "      <td>893</td>\n",
       "      <td>3</td>\n",
       "      <td>female</td>\n",
       "      <td>47.0</td>\n",
       "      <td>1</td>\n",
       "      <td>0</td>\n",
       "      <td>363272</td>\n",
       "      <td>7.0000</td>\n",
       "      <td>S</td>\n",
       "    </tr>\n",
       "    <tr>\n",
       "      <th>2</th>\n",
       "      <td>894</td>\n",
       "      <td>2</td>\n",
       "      <td>male</td>\n",
       "      <td>62.0</td>\n",
       "      <td>0</td>\n",
       "      <td>0</td>\n",
       "      <td>240276</td>\n",
       "      <td>9.6875</td>\n",
       "      <td>Q</td>\n",
       "    </tr>\n",
       "    <tr>\n",
       "      <th>3</th>\n",
       "      <td>895</td>\n",
       "      <td>3</td>\n",
       "      <td>male</td>\n",
       "      <td>27.0</td>\n",
       "      <td>0</td>\n",
       "      <td>0</td>\n",
       "      <td>315154</td>\n",
       "      <td>8.6625</td>\n",
       "      <td>S</td>\n",
       "    </tr>\n",
       "    <tr>\n",
       "      <th>4</th>\n",
       "      <td>896</td>\n",
       "      <td>3</td>\n",
       "      <td>female</td>\n",
       "      <td>22.0</td>\n",
       "      <td>1</td>\n",
       "      <td>1</td>\n",
       "      <td>3101298</td>\n",
       "      <td>12.2875</td>\n",
       "      <td>S</td>\n",
       "    </tr>\n",
       "    <tr>\n",
       "      <th>...</th>\n",
       "      <td>...</td>\n",
       "      <td>...</td>\n",
       "      <td>...</td>\n",
       "      <td>...</td>\n",
       "      <td>...</td>\n",
       "      <td>...</td>\n",
       "      <td>...</td>\n",
       "      <td>...</td>\n",
       "      <td>...</td>\n",
       "    </tr>\n",
       "    <tr>\n",
       "      <th>413</th>\n",
       "      <td>1305</td>\n",
       "      <td>3</td>\n",
       "      <td>male</td>\n",
       "      <td>NaN</td>\n",
       "      <td>0</td>\n",
       "      <td>0</td>\n",
       "      <td>A.5. 3236</td>\n",
       "      <td>8.0500</td>\n",
       "      <td>S</td>\n",
       "    </tr>\n",
       "    <tr>\n",
       "      <th>414</th>\n",
       "      <td>1306</td>\n",
       "      <td>1</td>\n",
       "      <td>female</td>\n",
       "      <td>39.0</td>\n",
       "      <td>0</td>\n",
       "      <td>0</td>\n",
       "      <td>PC 17758</td>\n",
       "      <td>108.9000</td>\n",
       "      <td>C</td>\n",
       "    </tr>\n",
       "    <tr>\n",
       "      <th>415</th>\n",
       "      <td>1307</td>\n",
       "      <td>3</td>\n",
       "      <td>male</td>\n",
       "      <td>38.5</td>\n",
       "      <td>0</td>\n",
       "      <td>0</td>\n",
       "      <td>SOTON/O.Q. 3101262</td>\n",
       "      <td>7.2500</td>\n",
       "      <td>S</td>\n",
       "    </tr>\n",
       "    <tr>\n",
       "      <th>416</th>\n",
       "      <td>1308</td>\n",
       "      <td>3</td>\n",
       "      <td>male</td>\n",
       "      <td>NaN</td>\n",
       "      <td>0</td>\n",
       "      <td>0</td>\n",
       "      <td>359309</td>\n",
       "      <td>8.0500</td>\n",
       "      <td>S</td>\n",
       "    </tr>\n",
       "    <tr>\n",
       "      <th>417</th>\n",
       "      <td>1309</td>\n",
       "      <td>3</td>\n",
       "      <td>male</td>\n",
       "      <td>NaN</td>\n",
       "      <td>1</td>\n",
       "      <td>1</td>\n",
       "      <td>2668</td>\n",
       "      <td>22.3583</td>\n",
       "      <td>C</td>\n",
       "    </tr>\n",
       "  </tbody>\n",
       "</table>\n",
       "<p>418 rows × 9 columns</p>\n",
       "</div>"
      ],
      "text/plain": [
       "     PassengerId  Pclass     Sex   Age  SibSp  Parch              Ticket  \\\n",
       "0            892       3    male  34.5      0      0              330911   \n",
       "1            893       3  female  47.0      1      0              363272   \n",
       "2            894       2    male  62.0      0      0              240276   \n",
       "3            895       3    male  27.0      0      0              315154   \n",
       "4            896       3  female  22.0      1      1             3101298   \n",
       "..           ...     ...     ...   ...    ...    ...                 ...   \n",
       "413         1305       3    male   NaN      0      0           A.5. 3236   \n",
       "414         1306       1  female  39.0      0      0            PC 17758   \n",
       "415         1307       3    male  38.5      0      0  SOTON/O.Q. 3101262   \n",
       "416         1308       3    male   NaN      0      0              359309   \n",
       "417         1309       3    male   NaN      1      1                2668   \n",
       "\n",
       "         Fare Embarked  \n",
       "0      7.8292        Q  \n",
       "1      7.0000        S  \n",
       "2      9.6875        Q  \n",
       "3      8.6625        S  \n",
       "4     12.2875        S  \n",
       "..        ...      ...  \n",
       "413    8.0500        S  \n",
       "414  108.9000        C  \n",
       "415    7.2500        S  \n",
       "416    8.0500        S  \n",
       "417   22.3583        C  \n",
       "\n",
       "[418 rows x 9 columns]"
      ]
     },
     "execution_count": 19,
     "metadata": {},
     "output_type": "execute_result"
    }
   ],
   "source": [
    "test_data.drop(['Name'],axis=1,inplace=True)\n",
    "test_data"
   ]
  },
  {
   "cell_type": "code",
   "execution_count": 20,
   "id": "9f1da5f2",
   "metadata": {
    "execution": {
     "iopub.execute_input": "2021-07-25T15:13:19.286948Z",
     "iopub.status.busy": "2021-07-25T15:13:19.286228Z",
     "iopub.status.idle": "2021-07-25T15:13:19.291221Z",
     "shell.execute_reply": "2021-07-25T15:13:19.291904Z",
     "shell.execute_reply.started": "2021-07-25T14:52:23.204411Z"
    },
    "papermill": {
     "duration": 0.055961,
     "end_time": "2021-07-25T15:13:19.292157",
     "exception": false,
     "start_time": "2021-07-25T15:13:19.236196",
     "status": "completed"
    },
    "tags": []
   },
   "outputs": [
    {
     "data": {
      "text/html": [
       "<div>\n",
       "<style scoped>\n",
       "    .dataframe tbody tr th:only-of-type {\n",
       "        vertical-align: middle;\n",
       "    }\n",
       "\n",
       "    .dataframe tbody tr th {\n",
       "        vertical-align: top;\n",
       "    }\n",
       "\n",
       "    .dataframe thead th {\n",
       "        text-align: right;\n",
       "    }\n",
       "</style>\n",
       "<table border=\"1\" class=\"dataframe\">\n",
       "  <thead>\n",
       "    <tr style=\"text-align: right;\">\n",
       "      <th></th>\n",
       "      <th>PassengerId</th>\n",
       "      <th>Pclass</th>\n",
       "      <th>Sex</th>\n",
       "      <th>Age</th>\n",
       "      <th>SibSp</th>\n",
       "      <th>Parch</th>\n",
       "      <th>Fare</th>\n",
       "      <th>Embarked</th>\n",
       "    </tr>\n",
       "  </thead>\n",
       "  <tbody>\n",
       "    <tr>\n",
       "      <th>0</th>\n",
       "      <td>892</td>\n",
       "      <td>3</td>\n",
       "      <td>male</td>\n",
       "      <td>34.5</td>\n",
       "      <td>0</td>\n",
       "      <td>0</td>\n",
       "      <td>7.8292</td>\n",
       "      <td>Q</td>\n",
       "    </tr>\n",
       "    <tr>\n",
       "      <th>1</th>\n",
       "      <td>893</td>\n",
       "      <td>3</td>\n",
       "      <td>female</td>\n",
       "      <td>47.0</td>\n",
       "      <td>1</td>\n",
       "      <td>0</td>\n",
       "      <td>7.0000</td>\n",
       "      <td>S</td>\n",
       "    </tr>\n",
       "    <tr>\n",
       "      <th>2</th>\n",
       "      <td>894</td>\n",
       "      <td>2</td>\n",
       "      <td>male</td>\n",
       "      <td>62.0</td>\n",
       "      <td>0</td>\n",
       "      <td>0</td>\n",
       "      <td>9.6875</td>\n",
       "      <td>Q</td>\n",
       "    </tr>\n",
       "    <tr>\n",
       "      <th>3</th>\n",
       "      <td>895</td>\n",
       "      <td>3</td>\n",
       "      <td>male</td>\n",
       "      <td>27.0</td>\n",
       "      <td>0</td>\n",
       "      <td>0</td>\n",
       "      <td>8.6625</td>\n",
       "      <td>S</td>\n",
       "    </tr>\n",
       "    <tr>\n",
       "      <th>4</th>\n",
       "      <td>896</td>\n",
       "      <td>3</td>\n",
       "      <td>female</td>\n",
       "      <td>22.0</td>\n",
       "      <td>1</td>\n",
       "      <td>1</td>\n",
       "      <td>12.2875</td>\n",
       "      <td>S</td>\n",
       "    </tr>\n",
       "    <tr>\n",
       "      <th>...</th>\n",
       "      <td>...</td>\n",
       "      <td>...</td>\n",
       "      <td>...</td>\n",
       "      <td>...</td>\n",
       "      <td>...</td>\n",
       "      <td>...</td>\n",
       "      <td>...</td>\n",
       "      <td>...</td>\n",
       "    </tr>\n",
       "    <tr>\n",
       "      <th>413</th>\n",
       "      <td>1305</td>\n",
       "      <td>3</td>\n",
       "      <td>male</td>\n",
       "      <td>NaN</td>\n",
       "      <td>0</td>\n",
       "      <td>0</td>\n",
       "      <td>8.0500</td>\n",
       "      <td>S</td>\n",
       "    </tr>\n",
       "    <tr>\n",
       "      <th>414</th>\n",
       "      <td>1306</td>\n",
       "      <td>1</td>\n",
       "      <td>female</td>\n",
       "      <td>39.0</td>\n",
       "      <td>0</td>\n",
       "      <td>0</td>\n",
       "      <td>108.9000</td>\n",
       "      <td>C</td>\n",
       "    </tr>\n",
       "    <tr>\n",
       "      <th>415</th>\n",
       "      <td>1307</td>\n",
       "      <td>3</td>\n",
       "      <td>male</td>\n",
       "      <td>38.5</td>\n",
       "      <td>0</td>\n",
       "      <td>0</td>\n",
       "      <td>7.2500</td>\n",
       "      <td>S</td>\n",
       "    </tr>\n",
       "    <tr>\n",
       "      <th>416</th>\n",
       "      <td>1308</td>\n",
       "      <td>3</td>\n",
       "      <td>male</td>\n",
       "      <td>NaN</td>\n",
       "      <td>0</td>\n",
       "      <td>0</td>\n",
       "      <td>8.0500</td>\n",
       "      <td>S</td>\n",
       "    </tr>\n",
       "    <tr>\n",
       "      <th>417</th>\n",
       "      <td>1309</td>\n",
       "      <td>3</td>\n",
       "      <td>male</td>\n",
       "      <td>NaN</td>\n",
       "      <td>1</td>\n",
       "      <td>1</td>\n",
       "      <td>22.3583</td>\n",
       "      <td>C</td>\n",
       "    </tr>\n",
       "  </tbody>\n",
       "</table>\n",
       "<p>418 rows × 8 columns</p>\n",
       "</div>"
      ],
      "text/plain": [
       "     PassengerId  Pclass     Sex   Age  SibSp  Parch      Fare Embarked\n",
       "0            892       3    male  34.5      0      0    7.8292        Q\n",
       "1            893       3  female  47.0      1      0    7.0000        S\n",
       "2            894       2    male  62.0      0      0    9.6875        Q\n",
       "3            895       3    male  27.0      0      0    8.6625        S\n",
       "4            896       3  female  22.0      1      1   12.2875        S\n",
       "..           ...     ...     ...   ...    ...    ...       ...      ...\n",
       "413         1305       3    male   NaN      0      0    8.0500        S\n",
       "414         1306       1  female  39.0      0      0  108.9000        C\n",
       "415         1307       3    male  38.5      0      0    7.2500        S\n",
       "416         1308       3    male   NaN      0      0    8.0500        S\n",
       "417         1309       3    male   NaN      1      1   22.3583        C\n",
       "\n",
       "[418 rows x 8 columns]"
      ]
     },
     "execution_count": 20,
     "metadata": {},
     "output_type": "execute_result"
    }
   ],
   "source": [
    "test_data.drop(['Ticket'],axis=1,inplace=True)\n",
    "test_data"
   ]
  },
  {
   "cell_type": "code",
   "execution_count": 21,
   "id": "59267001",
   "metadata": {
    "execution": {
     "iopub.execute_input": "2021-07-25T15:13:19.388515Z",
     "iopub.status.busy": "2021-07-25T15:13:19.387676Z",
     "iopub.status.idle": "2021-07-25T15:13:19.391357Z",
     "shell.execute_reply": "2021-07-25T15:13:19.392028Z",
     "shell.execute_reply.started": "2021-07-25T14:52:23.237774Z"
    },
    "papermill": {
     "duration": 0.064094,
     "end_time": "2021-07-25T15:13:19.392197",
     "exception": false,
     "start_time": "2021-07-25T15:13:19.328103",
     "status": "completed"
    },
    "tags": []
   },
   "outputs": [
    {
     "data": {
      "text/html": [
       "<div>\n",
       "<style scoped>\n",
       "    .dataframe tbody tr th:only-of-type {\n",
       "        vertical-align: middle;\n",
       "    }\n",
       "\n",
       "    .dataframe tbody tr th {\n",
       "        vertical-align: top;\n",
       "    }\n",
       "\n",
       "    .dataframe thead th {\n",
       "        text-align: right;\n",
       "    }\n",
       "</style>\n",
       "<table border=\"1\" class=\"dataframe\">\n",
       "  <thead>\n",
       "    <tr style=\"text-align: right;\">\n",
       "      <th></th>\n",
       "      <th>PassengerId</th>\n",
       "      <th>Pclass</th>\n",
       "      <th>Age</th>\n",
       "      <th>SibSp</th>\n",
       "      <th>Parch</th>\n",
       "      <th>Fare</th>\n",
       "      <th>Sex_female</th>\n",
       "      <th>Sex_male</th>\n",
       "      <th>Embarked_C</th>\n",
       "      <th>Embarked_Q</th>\n",
       "      <th>Embarked_S</th>\n",
       "    </tr>\n",
       "  </thead>\n",
       "  <tbody>\n",
       "    <tr>\n",
       "      <th>0</th>\n",
       "      <td>892</td>\n",
       "      <td>3</td>\n",
       "      <td>34.5</td>\n",
       "      <td>0</td>\n",
       "      <td>0</td>\n",
       "      <td>7.8292</td>\n",
       "      <td>0</td>\n",
       "      <td>1</td>\n",
       "      <td>0</td>\n",
       "      <td>1</td>\n",
       "      <td>0</td>\n",
       "    </tr>\n",
       "    <tr>\n",
       "      <th>1</th>\n",
       "      <td>893</td>\n",
       "      <td>3</td>\n",
       "      <td>47.0</td>\n",
       "      <td>1</td>\n",
       "      <td>0</td>\n",
       "      <td>7.0000</td>\n",
       "      <td>1</td>\n",
       "      <td>0</td>\n",
       "      <td>0</td>\n",
       "      <td>0</td>\n",
       "      <td>1</td>\n",
       "    </tr>\n",
       "    <tr>\n",
       "      <th>2</th>\n",
       "      <td>894</td>\n",
       "      <td>2</td>\n",
       "      <td>62.0</td>\n",
       "      <td>0</td>\n",
       "      <td>0</td>\n",
       "      <td>9.6875</td>\n",
       "      <td>0</td>\n",
       "      <td>1</td>\n",
       "      <td>0</td>\n",
       "      <td>1</td>\n",
       "      <td>0</td>\n",
       "    </tr>\n",
       "    <tr>\n",
       "      <th>3</th>\n",
       "      <td>895</td>\n",
       "      <td>3</td>\n",
       "      <td>27.0</td>\n",
       "      <td>0</td>\n",
       "      <td>0</td>\n",
       "      <td>8.6625</td>\n",
       "      <td>0</td>\n",
       "      <td>1</td>\n",
       "      <td>0</td>\n",
       "      <td>0</td>\n",
       "      <td>1</td>\n",
       "    </tr>\n",
       "    <tr>\n",
       "      <th>4</th>\n",
       "      <td>896</td>\n",
       "      <td>3</td>\n",
       "      <td>22.0</td>\n",
       "      <td>1</td>\n",
       "      <td>1</td>\n",
       "      <td>12.2875</td>\n",
       "      <td>1</td>\n",
       "      <td>0</td>\n",
       "      <td>0</td>\n",
       "      <td>0</td>\n",
       "      <td>1</td>\n",
       "    </tr>\n",
       "    <tr>\n",
       "      <th>...</th>\n",
       "      <td>...</td>\n",
       "      <td>...</td>\n",
       "      <td>...</td>\n",
       "      <td>...</td>\n",
       "      <td>...</td>\n",
       "      <td>...</td>\n",
       "      <td>...</td>\n",
       "      <td>...</td>\n",
       "      <td>...</td>\n",
       "      <td>...</td>\n",
       "      <td>...</td>\n",
       "    </tr>\n",
       "    <tr>\n",
       "      <th>413</th>\n",
       "      <td>1305</td>\n",
       "      <td>3</td>\n",
       "      <td>NaN</td>\n",
       "      <td>0</td>\n",
       "      <td>0</td>\n",
       "      <td>8.0500</td>\n",
       "      <td>0</td>\n",
       "      <td>1</td>\n",
       "      <td>0</td>\n",
       "      <td>0</td>\n",
       "      <td>1</td>\n",
       "    </tr>\n",
       "    <tr>\n",
       "      <th>414</th>\n",
       "      <td>1306</td>\n",
       "      <td>1</td>\n",
       "      <td>39.0</td>\n",
       "      <td>0</td>\n",
       "      <td>0</td>\n",
       "      <td>108.9000</td>\n",
       "      <td>1</td>\n",
       "      <td>0</td>\n",
       "      <td>1</td>\n",
       "      <td>0</td>\n",
       "      <td>0</td>\n",
       "    </tr>\n",
       "    <tr>\n",
       "      <th>415</th>\n",
       "      <td>1307</td>\n",
       "      <td>3</td>\n",
       "      <td>38.5</td>\n",
       "      <td>0</td>\n",
       "      <td>0</td>\n",
       "      <td>7.2500</td>\n",
       "      <td>0</td>\n",
       "      <td>1</td>\n",
       "      <td>0</td>\n",
       "      <td>0</td>\n",
       "      <td>1</td>\n",
       "    </tr>\n",
       "    <tr>\n",
       "      <th>416</th>\n",
       "      <td>1308</td>\n",
       "      <td>3</td>\n",
       "      <td>NaN</td>\n",
       "      <td>0</td>\n",
       "      <td>0</td>\n",
       "      <td>8.0500</td>\n",
       "      <td>0</td>\n",
       "      <td>1</td>\n",
       "      <td>0</td>\n",
       "      <td>0</td>\n",
       "      <td>1</td>\n",
       "    </tr>\n",
       "    <tr>\n",
       "      <th>417</th>\n",
       "      <td>1309</td>\n",
       "      <td>3</td>\n",
       "      <td>NaN</td>\n",
       "      <td>1</td>\n",
       "      <td>1</td>\n",
       "      <td>22.3583</td>\n",
       "      <td>0</td>\n",
       "      <td>1</td>\n",
       "      <td>1</td>\n",
       "      <td>0</td>\n",
       "      <td>0</td>\n",
       "    </tr>\n",
       "  </tbody>\n",
       "</table>\n",
       "<p>418 rows × 11 columns</p>\n",
       "</div>"
      ],
      "text/plain": [
       "     PassengerId  Pclass   Age  SibSp  Parch      Fare  Sex_female  Sex_male  \\\n",
       "0            892       3  34.5      0      0    7.8292           0         1   \n",
       "1            893       3  47.0      1      0    7.0000           1         0   \n",
       "2            894       2  62.0      0      0    9.6875           0         1   \n",
       "3            895       3  27.0      0      0    8.6625           0         1   \n",
       "4            896       3  22.0      1      1   12.2875           1         0   \n",
       "..           ...     ...   ...    ...    ...       ...         ...       ...   \n",
       "413         1305       3   NaN      0      0    8.0500           0         1   \n",
       "414         1306       1  39.0      0      0  108.9000           1         0   \n",
       "415         1307       3  38.5      0      0    7.2500           0         1   \n",
       "416         1308       3   NaN      0      0    8.0500           0         1   \n",
       "417         1309       3   NaN      1      1   22.3583           0         1   \n",
       "\n",
       "     Embarked_C  Embarked_Q  Embarked_S  \n",
       "0             0           1           0  \n",
       "1             0           0           1  \n",
       "2             0           1           0  \n",
       "3             0           0           1  \n",
       "4             0           0           1  \n",
       "..          ...         ...         ...  \n",
       "413           0           0           1  \n",
       "414           1           0           0  \n",
       "415           0           0           1  \n",
       "416           0           0           1  \n",
       "417           1           0           0  \n",
       "\n",
       "[418 rows x 11 columns]"
      ]
     },
     "execution_count": 21,
     "metadata": {},
     "output_type": "execute_result"
    }
   ],
   "source": [
    "test_data=pd.get_dummies(test_data)\n",
    "test_data"
   ]
  },
  {
   "cell_type": "code",
   "execution_count": 22,
   "id": "16a5a9f3",
   "metadata": {
    "execution": {
     "iopub.execute_input": "2021-07-25T15:13:19.456589Z",
     "iopub.status.busy": "2021-07-25T15:13:19.455348Z",
     "iopub.status.idle": "2021-07-25T15:13:19.460602Z",
     "shell.execute_reply": "2021-07-25T15:13:19.460002Z",
     "shell.execute_reply.started": "2021-07-25T14:52:23.273797Z"
    },
    "papermill": {
     "duration": 0.041705,
     "end_time": "2021-07-25T15:13:19.460754",
     "exception": false,
     "start_time": "2021-07-25T15:13:19.419049",
     "status": "completed"
    },
    "tags": []
   },
   "outputs": [],
   "source": [
    "test_data = test_data.fillna(X_train.mean())"
   ]
  },
  {
   "cell_type": "code",
   "execution_count": 23,
   "id": "4f13dcd5",
   "metadata": {
    "execution": {
     "iopub.execute_input": "2021-07-25T15:13:19.517630Z",
     "iopub.status.busy": "2021-07-25T15:13:19.517008Z",
     "iopub.status.idle": "2021-07-25T15:13:19.530813Z",
     "shell.execute_reply": "2021-07-25T15:13:19.531426Z",
     "shell.execute_reply.started": "2021-07-25T14:52:23.285028Z"
    },
    "papermill": {
     "duration": 0.043798,
     "end_time": "2021-07-25T15:13:19.531648",
     "exception": false,
     "start_time": "2021-07-25T15:13:19.487850",
     "status": "completed"
    },
    "tags": []
   },
   "outputs": [
    {
     "name": "stdout",
     "output_type": "stream",
     "text": [
      "418\n"
     ]
    }
   ],
   "source": [
    "prediction = random_forest.predict(test_data)\n",
    "#preds_test = random_forest.predict(test_data)\n",
    "print(len(prediction))"
   ]
  },
  {
   "cell_type": "code",
   "execution_count": 24,
   "id": "7b68f1e3",
   "metadata": {
    "execution": {
     "iopub.execute_input": "2021-07-25T15:13:19.592909Z",
     "iopub.status.busy": "2021-07-25T15:13:19.592139Z",
     "iopub.status.idle": "2021-07-25T15:13:19.595349Z",
     "shell.execute_reply": "2021-07-25T15:13:19.595795Z",
     "shell.execute_reply.started": "2021-07-25T14:52:23.309501Z"
    },
    "papermill": {
     "duration": 0.03642,
     "end_time": "2021-07-25T15:13:19.595974",
     "exception": false,
     "start_time": "2021-07-25T15:13:19.559554",
     "status": "completed"
    },
    "tags": []
   },
   "outputs": [
    {
     "data": {
      "text/plain": [
       "array([0, 0, 0, 0, 0, 0, 0, 0, 1, 0, 0, 0, 1, 0, 1, 1, 0, 0, 0, 0, 0, 1,\n",
       "       1, 0, 1, 0, 1, 0, 0, 0, 0, 0, 0, 0, 1, 0, 0, 0, 0, 0, 0, 0, 0, 1,\n",
       "       1, 0, 1, 1, 1, 0, 0, 0, 1, 1, 0, 0, 0, 0, 0, 1, 0, 0, 0, 1, 1, 1,\n",
       "       1, 0, 1, 1, 1, 0, 0, 1, 1, 0, 0, 1, 0, 1, 1, 0, 0, 0, 0, 0, 1, 0,\n",
       "       1, 1, 0, 0, 1, 0, 1, 0, 1, 0, 0, 0, 1, 0, 1, 0, 0, 0, 1, 1, 0, 0,\n",
       "       0, 1, 1, 1, 1, 0, 0, 1, 0, 1, 1, 0, 1, 0, 1, 1, 0, 1, 0, 0, 0, 1,\n",
       "       0, 0, 0, 0, 0, 0, 0, 0, 0, 1, 0, 0, 1, 0, 0, 0, 0, 0, 1, 0, 0, 0,\n",
       "       0, 0, 1, 0, 1, 1, 1, 1, 1, 0, 0, 0, 0, 0, 1, 0, 0, 0, 0, 0, 0, 1,\n",
       "       1, 0, 1, 1, 0, 1, 1, 1, 1, 0, 1, 0, 0, 0, 0, 0, 1, 0, 1, 0, 1, 0,\n",
       "       0, 0, 0, 1, 1, 1, 0, 0, 0, 0, 1, 0, 0, 0, 0, 1, 0, 0, 1, 0, 1, 0,\n",
       "       1, 0, 1, 0, 1, 0, 0, 1, 0, 0, 0, 1, 0, 0, 1, 0, 0, 0, 1, 1, 1, 1,\n",
       "       0, 0, 0, 0, 1, 0, 1, 0, 1, 0, 1, 0, 0, 0, 1, 0, 1, 0, 0, 0, 1, 1,\n",
       "       0, 0, 0, 0, 0, 0, 0, 1, 1, 1, 0, 1, 0, 0, 0, 0, 0, 1, 1, 0, 1, 0,\n",
       "       0, 0, 0, 0, 0, 0, 0, 0, 0, 0, 1, 0, 0, 0, 0, 0, 0, 0, 1, 1, 0, 1,\n",
       "       0, 0, 0, 0, 0, 0, 1, 1, 0, 0, 0, 0, 0, 0, 0, 0, 1, 0, 1, 0, 0, 0,\n",
       "       1, 1, 0, 0, 0, 0, 0, 0, 0, 0, 0, 0, 0, 1, 0, 1, 0, 0, 0, 1, 1, 0,\n",
       "       0, 0, 1, 0, 1, 0, 1, 0, 0, 1, 1, 0, 1, 0, 0, 0, 1, 0, 0, 1, 0, 0,\n",
       "       1, 1, 0, 0, 0, 0, 1, 1, 0, 0, 0, 1, 0, 0, 1, 0, 0, 1, 0, 0, 0, 1,\n",
       "       0, 1, 0, 0, 1, 0, 1, 0, 1, 0, 0, 0, 1, 1, 1, 1, 0, 0, 1, 0, 0, 1])"
      ]
     },
     "execution_count": 24,
     "metadata": {},
     "output_type": "execute_result"
    }
   ],
   "source": [
    "prediction"
   ]
  },
  {
   "cell_type": "markdown",
   "id": "a04842a7",
   "metadata": {
    "papermill": {
     "duration": 0.028417,
     "end_time": "2021-07-25T15:13:19.651512",
     "exception": false,
     "start_time": "2021-07-25T15:13:19.623095",
     "status": "completed"
    },
    "tags": []
   },
   "source": [
    "## Output"
   ]
  },
  {
   "cell_type": "code",
   "execution_count": 25,
   "id": "b78a593b",
   "metadata": {
    "execution": {
     "iopub.execute_input": "2021-07-25T15:13:19.709300Z",
     "iopub.status.busy": "2021-07-25T15:13:19.708355Z",
     "iopub.status.idle": "2021-07-25T15:13:19.718738Z",
     "shell.execute_reply": "2021-07-25T15:13:19.719173Z",
     "shell.execute_reply.started": "2021-07-25T14:52:23.319361Z"
    },
    "papermill": {
     "duration": 0.040621,
     "end_time": "2021-07-25T15:13:19.719343",
     "exception": false,
     "start_time": "2021-07-25T15:13:19.678722",
     "status": "completed"
    },
    "tags": []
   },
   "outputs": [
    {
     "name": "stdout",
     "output_type": "stream",
     "text": [
      "Your submission was successfully saved!\n"
     ]
    }
   ],
   "source": [
    "output = pd.DataFrame({'PassengerId': test_data.PassengerId, 'Survived': prediction})\n",
    "output.to_csv('submission.csv', index=False)\n",
    "print(\"Your submission was successfully saved!\")"
   ]
  },
  {
   "attachments": {
    "5b4bb803-c7f0-4fde-9316-b95d8aa6438b.png": {
     "image/png": "[encoded data removed]"
    }
   },
   "cell_type": "markdown",
   "id": "7d853269",
   "metadata": {
    "papermill": {
     "duration": 0.027462,
     "end_time": "2021-07-25T15:13:19.774931",
     "exception": false,
     "start_time": "2021-07-25T15:13:19.747469",
     "status": "completed"
    },
    "tags": []
   },
   "source": [
    "# My Score\n",
    "![image.png](attachment:5b4bb803-c7f0-4fde-9316-b95d8aa6438b.png)"
   ]
  }
 ],
 "metadata": {
  "kernelspec": {
   "display_name": "Python 3",
   "language": "python",
   "name": "python3"
  },
  "language_info": {
   "codemirror_mode": {
    "name": "ipython",
    "version": 3
   },
   "file_extension": ".py",
   "mimetype": "text/x-python",
   "name": "python",
   "nbconvert_exporter": "python",
   "pygments_lexer": "ipython3",
   "version": "3.7.10"
  },
  "papermill": {
   "default_parameters": {},
   "duration": 11.483864,
   "end_time": "2021-07-25T15:13:20.513202",
   "environment_variables": {},
   "exception": null,
   "input_path": "__notebook__.ipynb",
   "output_path": "__notebook__.ipynb",
   "parameters": {},
   "start_time": "2021-07-25T15:13:09.029338",
   "version": "2.3.3"
  }
 },
 "nbformat": 4,
 "nbformat_minor": 5
}
